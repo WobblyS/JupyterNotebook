{
 "cells": [
  {
   "cell_type": "markdown",
   "id": "e4e78167-f7c3-4f30-ae56-afe219c98cb0",
   "metadata": {},
   "source": [
    "# Data Science Tools and Ecosystem\n",
    "In this notebook, Data Science Tools and Ecosystem are summarized."
   ]
  },
  {
   "cell_type": "markdown",
   "id": "b03f2178-5001-4b11-ba1d-f506cf191056",
   "metadata": {},
   "source": [
    "## Author\n",
    "Stefan"
   ]
  },
  {
   "cell_type": "markdown",
   "id": "a51782af-a0cd-4f47-895d-767cbb357b8b",
   "metadata": {},
   "source": [
    "**Objectives:**\n",
    "- List of popular languages that Data Scientists use\n",
    "- Some of the commonly used libraries used by Data Scientists\n",
    "- Open source development environments for Data Science"
   ]
  },
  {
   "cell_type": "markdown",
   "id": "38e2bffe-e4b3-40ff-a30d-4136c6f4ac95",
   "metadata": {
    "tags": []
   },
   "source": [
    "Some of the popular languages that Data Scientists use are:\n",
    "1. Python\n",
    "2. R\n",
    "3. Java\n",
    "4. JavaScript"
   ]
  },
  {
   "cell_type": "markdown",
   "id": "a0df39f1-0f28-462a-9bfa-a24801ff23e7",
   "metadata": {},
   "source": [
    "Some of the commonly used libraries used by Data Scientists include:\n",
    "1. TenserFlow\n",
    "2. SciPy\n",
    "3. NumPy\n",
    "4. Pandas"
   ]
  },
  {
   "cell_type": "markdown",
   "id": "e593bb2d-9560-410f-923e-7a90fbd0b8d0",
   "metadata": {},
   "source": [
    "|Data Science Tools|\n",
    "|------------------|\n",
    "|RStudio|\n",
    "|ApacheSpark|\n",
    "|TensorFlow|"
   ]
  },
  {
   "cell_type": "markdown",
   "id": "5f355a00-4bb6-4d15-81b5-51d8622f059a",
   "metadata": {},
   "source": [
    "### Below are a few examples of evaluating arithmetic expressions in Python"
   ]
  },
  {
   "cell_type": "code",
   "execution_count": 2,
   "id": "a79203a9-d4c1-4ed5-8723-523d8ed7aa04",
   "metadata": {
    "tags": []
   },
   "outputs": [
    {
     "data": {
      "text/plain": [
       "17"
      ]
     },
     "execution_count": 2,
     "metadata": {},
     "output_type": "execute_result"
    }
   ],
   "source": [
    "# This a simple arithmetic expression to mutiply then add integers\n",
    "(3*4)+5"
   ]
  },
  {
   "cell_type": "code",
   "execution_count": 3,
   "id": "91bb8fdf-c3f2-4835-8906-241d882ee83c",
   "metadata": {
    "tags": []
   },
   "outputs": [
    {
     "data": {
      "text/plain": [
       "3.3333333333333335"
      ]
     },
     "execution_count": 3,
     "metadata": {},
     "output_type": "execute_result"
    }
   ],
   "source": [
    "# This will convert 200 minutes to hours by diving by 60\n",
    "200/60"
   ]
  },
  {
   "cell_type": "code",
   "execution_count": null,
   "id": "2d839604-d267-4e22-ab98-c0b203c303f0",
   "metadata": {},
   "outputs": [],
   "source": []
  }
 ],
 "metadata": {
  "kernelspec": {
   "display_name": "Python",
   "language": "python",
   "name": "conda-env-python-py"
  },
  "language_info": {
   "codemirror_mode": {
    "name": "ipython",
    "version": 3
   },
   "file_extension": ".py",
   "mimetype": "text/x-python",
   "name": "python",
   "nbconvert_exporter": "python",
   "pygments_lexer": "ipython3",
   "version": "3.7.12"
  }
 },
 "nbformat": 4,
 "nbformat_minor": 5
}
